{
 "cells": [
  {
   "cell_type": "code",
   "execution_count": 1,
   "id": "d68c4500",
   "metadata": {},
   "outputs": [],
   "source": [
    "import os\n",
    "import nltk"
   ]
  },
  {
   "cell_type": "code",
   "execution_count": 2,
   "id": "3210fb1c",
   "metadata": {},
   "outputs": [],
   "source": [
    "AI = '''As an AI language model, ChatGPT is designed to understand and generate human-like text responses in natural language.\n",
    " It has been trained on a vast amount of diverse internet text, allowing it to have a broad understanding of numerous topics. \n",
    " However, it's important to note that ChatGPT's responses are generated based on patterns \n",
    " and examples from its training data and may not always provide accurate or up-to-date information.'''"
   ]
  },
  {
   "cell_type": "code",
   "execution_count": 3,
   "id": "5491fec0",
   "metadata": {},
   "outputs": [
    {
     "data": {
      "text/plain": [
       "\"As an AI language model, ChatGPT is designed to understand and generate human-like text responses in natural language.\\n It has been trained on a vast amount of diverse internet text, allowing it to have a broad understanding of numerous topics. \\n However, it's important to note that ChatGPT's responses are generated based on patterns \\n and examples from its training data and may not always provide accurate or up-to-date information.\""
      ]
     },
     "execution_count": 3,
     "metadata": {},
     "output_type": "execute_result"
    }
   ],
   "source": [
    "AI"
   ]
  },
  {
   "cell_type": "code",
   "execution_count": 4,
   "id": "c8e21786",
   "metadata": {},
   "outputs": [
    {
     "data": {
      "text/plain": [
       "str"
      ]
     },
     "execution_count": 4,
     "metadata": {},
     "output_type": "execute_result"
    }
   ],
   "source": [
    "type(AI)"
   ]
  },
  {
   "cell_type": "markdown",
   "id": "058ac40f",
   "metadata": {},
   "source": [
    "#### Tokenization"
   ]
  },
  {
   "cell_type": "code",
   "execution_count": 5,
   "id": "102ac8be",
   "metadata": {},
   "outputs": [],
   "source": [
    "sent = \"my name is sam\""
   ]
  },
  {
   "cell_type": "code",
   "execution_count": 6,
   "id": "c6e2ae4f",
   "metadata": {},
   "outputs": [
    {
     "data": {
      "text/plain": [
       "'my name is sam'"
      ]
     },
     "execution_count": 6,
     "metadata": {},
     "output_type": "execute_result"
    }
   ],
   "source": [
    "sent"
   ]
  },
  {
   "cell_type": "code",
   "execution_count": 7,
   "id": "adb057c6",
   "metadata": {},
   "outputs": [],
   "source": [
    "from nltk.tokenize import word_tokenize"
   ]
  },
  {
   "cell_type": "code",
   "execution_count": 8,
   "id": "79686f25",
   "metadata": {},
   "outputs": [],
   "source": [
    "sent_token = word_tokenize(sent)"
   ]
  },
  {
   "cell_type": "code",
   "execution_count": 9,
   "id": "57841b39",
   "metadata": {},
   "outputs": [
    {
     "data": {
      "text/plain": [
       "['my', 'name', 'is', 'sam']"
      ]
     },
     "execution_count": 9,
     "metadata": {},
     "output_type": "execute_result"
    }
   ],
   "source": [
    "sent_token"
   ]
  },
  {
   "cell_type": "code",
   "execution_count": 10,
   "id": "504f102e",
   "metadata": {},
   "outputs": [
    {
     "data": {
      "text/plain": [
       "4"
      ]
     },
     "execution_count": 10,
     "metadata": {},
     "output_type": "execute_result"
    }
   ],
   "source": [
    "len(sent_token)"
   ]
  },
  {
   "cell_type": "code",
   "execution_count": 11,
   "id": "36ea6503",
   "metadata": {},
   "outputs": [],
   "source": [
    "AI_token = word_tokenize(AI)"
   ]
  },
  {
   "cell_type": "code",
   "execution_count": 12,
   "id": "8d861511",
   "metadata": {},
   "outputs": [
    {
     "data": {
      "text/plain": [
       "['As',\n",
       " 'an',\n",
       " 'AI',\n",
       " 'language',\n",
       " 'model',\n",
       " ',',\n",
       " 'ChatGPT',\n",
       " 'is',\n",
       " 'designed',\n",
       " 'to',\n",
       " 'understand',\n",
       " 'and',\n",
       " 'generate',\n",
       " 'human-like',\n",
       " 'text',\n",
       " 'responses',\n",
       " 'in',\n",
       " 'natural',\n",
       " 'language',\n",
       " '.',\n",
       " 'It',\n",
       " 'has',\n",
       " 'been',\n",
       " 'trained',\n",
       " 'on',\n",
       " 'a',\n",
       " 'vast',\n",
       " 'amount',\n",
       " 'of',\n",
       " 'diverse',\n",
       " 'internet',\n",
       " 'text',\n",
       " ',',\n",
       " 'allowing',\n",
       " 'it',\n",
       " 'to',\n",
       " 'have',\n",
       " 'a',\n",
       " 'broad',\n",
       " 'understanding',\n",
       " 'of',\n",
       " 'numerous',\n",
       " 'topics',\n",
       " '.',\n",
       " 'However',\n",
       " ',',\n",
       " 'it',\n",
       " \"'s\",\n",
       " 'important',\n",
       " 'to',\n",
       " 'note',\n",
       " 'that',\n",
       " 'ChatGPT',\n",
       " \"'s\",\n",
       " 'responses',\n",
       " 'are',\n",
       " 'generated',\n",
       " 'based',\n",
       " 'on',\n",
       " 'patterns',\n",
       " 'and',\n",
       " 'examples',\n",
       " 'from',\n",
       " 'its',\n",
       " 'training',\n",
       " 'data',\n",
       " 'and',\n",
       " 'may',\n",
       " 'not',\n",
       " 'always',\n",
       " 'provide',\n",
       " 'accurate',\n",
       " 'or',\n",
       " 'up-to-date',\n",
       " 'information',\n",
       " '.']"
      ]
     },
     "execution_count": 12,
     "metadata": {},
     "output_type": "execute_result"
    }
   ],
   "source": [
    "AI_token"
   ]
  },
  {
   "cell_type": "code",
   "execution_count": 13,
   "id": "4a352eb8",
   "metadata": {},
   "outputs": [
    {
     "data": {
      "text/plain": [
       "436"
      ]
     },
     "execution_count": 13,
     "metadata": {},
     "output_type": "execute_result"
    }
   ],
   "source": [
    "len(AI)"
   ]
  },
  {
   "cell_type": "code",
   "execution_count": 14,
   "id": "fe63cef3",
   "metadata": {},
   "outputs": [
    {
     "data": {
      "text/plain": [
       "76"
      ]
     },
     "execution_count": 14,
     "metadata": {},
     "output_type": "execute_result"
    }
   ],
   "source": [
    "len(AI_token)"
   ]
  },
  {
   "cell_type": "code",
   "execution_count": 15,
   "id": "d2acb7a8",
   "metadata": {},
   "outputs": [],
   "source": [
    "from nltk.probability import FreqDist\n",
    "\n",
    "# number of times words repeated from the paragraph"
   ]
  },
  {
   "cell_type": "code",
   "execution_count": 16,
   "id": "19e0afd4",
   "metadata": {},
   "outputs": [],
   "source": [
    "fdist = FreqDist()"
   ]
  },
  {
   "cell_type": "code",
   "execution_count": 17,
   "id": "62992d2e",
   "metadata": {},
   "outputs": [
    {
     "data": {
      "text/plain": [
       "FreqDist({',': 3, 'to': 3, 'and': 3, '.': 3, 'it': 3, 'language': 2, 'chatgpt': 2, 'text': 2, 'responses': 2, 'on': 2, ...})"
      ]
     },
     "execution_count": 17,
     "metadata": {},
     "output_type": "execute_result"
    }
   ],
   "source": [
    "for word in AI_token:\n",
    "   fdist[word.lower()]+=1\n",
    "fdist    "
   ]
  },
  {
   "cell_type": "code",
   "execution_count": 18,
   "id": "e1c3a688",
   "metadata": {},
   "outputs": [
    {
     "data": {
      "text/plain": [
       "2"
      ]
     },
     "execution_count": 18,
     "metadata": {},
     "output_type": "execute_result"
    }
   ],
   "source": [
    "fdist['text']"
   ]
  },
  {
   "cell_type": "code",
   "execution_count": 19,
   "id": "e4f453e3",
   "metadata": {},
   "outputs": [
    {
     "data": {
      "text/plain": [
       "2"
      ]
     },
     "execution_count": 19,
     "metadata": {},
     "output_type": "execute_result"
    }
   ],
   "source": [
    "fdist['language']"
   ]
  },
  {
   "cell_type": "code",
   "execution_count": 20,
   "id": "c8b471ab",
   "metadata": {},
   "outputs": [
    {
     "data": {
      "text/plain": [
       "58"
      ]
     },
     "execution_count": 20,
     "metadata": {},
     "output_type": "execute_result"
    }
   ],
   "source": [
    "len(fdist)\n",
    "\n",
    "# Dubligates or repeated words are removed and length reduced"
   ]
  },
  {
   "cell_type": "markdown",
   "id": "4703deca",
   "metadata": {},
   "source": [
    "###\n",
    "bigram - 2\n",
    "trigram - 3\n",
    "Ngram - more than 3\n",
    "words side by side\n"
   ]
  },
  {
   "cell_type": "code",
   "execution_count": 21,
   "id": "9c963de9",
   "metadata": {},
   "outputs": [],
   "source": [
    "from nltk.util import bigrams, trigrams, ngrams"
   ]
  },
  {
   "cell_type": "code",
   "execution_count": 22,
   "id": "177b3359",
   "metadata": {},
   "outputs": [],
   "source": [
    "string = '''As an AI language model, ChatGPT is designed to understand and generate human-like text responses in natural language.\n",
    " It has been trained on a vast amount of diverse internet text, allowing it to have a broad understanding of numerous topics. \n",
    " However, it's important to note that ChatGPT's responses are generated based on patterns \n",
    " and examples from its training data and may not always provide accurate or up-to-date information.'''"
   ]
  },
  {
   "cell_type": "code",
   "execution_count": 23,
   "id": "a4ac7f47",
   "metadata": {},
   "outputs": [],
   "source": [
    "bigram = list(nltk.bigrams(AI_token))"
   ]
  },
  {
   "cell_type": "code",
   "execution_count": 24,
   "id": "24878c3e",
   "metadata": {},
   "outputs": [
    {
     "data": {
      "text/plain": [
       "[('As', 'an'),\n",
       " ('an', 'AI'),\n",
       " ('AI', 'language'),\n",
       " ('language', 'model'),\n",
       " ('model', ','),\n",
       " (',', 'ChatGPT'),\n",
       " ('ChatGPT', 'is'),\n",
       " ('is', 'designed'),\n",
       " ('designed', 'to'),\n",
       " ('to', 'understand'),\n",
       " ('understand', 'and'),\n",
       " ('and', 'generate'),\n",
       " ('generate', 'human-like'),\n",
       " ('human-like', 'text'),\n",
       " ('text', 'responses'),\n",
       " ('responses', 'in'),\n",
       " ('in', 'natural'),\n",
       " ('natural', 'language'),\n",
       " ('language', '.'),\n",
       " ('.', 'It'),\n",
       " ('It', 'has'),\n",
       " ('has', 'been'),\n",
       " ('been', 'trained'),\n",
       " ('trained', 'on'),\n",
       " ('on', 'a'),\n",
       " ('a', 'vast'),\n",
       " ('vast', 'amount'),\n",
       " ('amount', 'of'),\n",
       " ('of', 'diverse'),\n",
       " ('diverse', 'internet'),\n",
       " ('internet', 'text'),\n",
       " ('text', ','),\n",
       " (',', 'allowing'),\n",
       " ('allowing', 'it'),\n",
       " ('it', 'to'),\n",
       " ('to', 'have'),\n",
       " ('have', 'a'),\n",
       " ('a', 'broad'),\n",
       " ('broad', 'understanding'),\n",
       " ('understanding', 'of'),\n",
       " ('of', 'numerous'),\n",
       " ('numerous', 'topics'),\n",
       " ('topics', '.'),\n",
       " ('.', 'However'),\n",
       " ('However', ','),\n",
       " (',', 'it'),\n",
       " ('it', \"'s\"),\n",
       " (\"'s\", 'important'),\n",
       " ('important', 'to'),\n",
       " ('to', 'note'),\n",
       " ('note', 'that'),\n",
       " ('that', 'ChatGPT'),\n",
       " ('ChatGPT', \"'s\"),\n",
       " (\"'s\", 'responses'),\n",
       " ('responses', 'are'),\n",
       " ('are', 'generated'),\n",
       " ('generated', 'based'),\n",
       " ('based', 'on'),\n",
       " ('on', 'patterns'),\n",
       " ('patterns', 'and'),\n",
       " ('and', 'examples'),\n",
       " ('examples', 'from'),\n",
       " ('from', 'its'),\n",
       " ('its', 'training'),\n",
       " ('training', 'data'),\n",
       " ('data', 'and'),\n",
       " ('and', 'may'),\n",
       " ('may', 'not'),\n",
       " ('not', 'always'),\n",
       " ('always', 'provide'),\n",
       " ('provide', 'accurate'),\n",
       " ('accurate', 'or'),\n",
       " ('or', 'up-to-date'),\n",
       " ('up-to-date', 'information'),\n",
       " ('information', '.')]"
      ]
     },
     "execution_count": 24,
     "metadata": {},
     "output_type": "execute_result"
    }
   ],
   "source": [
    "bigram"
   ]
  },
  {
   "cell_type": "code",
   "execution_count": 25,
   "id": "1aa8ef35",
   "metadata": {},
   "outputs": [],
   "source": [
    "trigram = list(nltk.trigrams(AI_token))"
   ]
  },
  {
   "cell_type": "code",
   "execution_count": 26,
   "id": "b16fc851",
   "metadata": {},
   "outputs": [
    {
     "data": {
      "text/plain": [
       "[('As', 'an', 'AI'),\n",
       " ('an', 'AI', 'language'),\n",
       " ('AI', 'language', 'model'),\n",
       " ('language', 'model', ','),\n",
       " ('model', ',', 'ChatGPT'),\n",
       " (',', 'ChatGPT', 'is'),\n",
       " ('ChatGPT', 'is', 'designed'),\n",
       " ('is', 'designed', 'to'),\n",
       " ('designed', 'to', 'understand'),\n",
       " ('to', 'understand', 'and'),\n",
       " ('understand', 'and', 'generate'),\n",
       " ('and', 'generate', 'human-like'),\n",
       " ('generate', 'human-like', 'text'),\n",
       " ('human-like', 'text', 'responses'),\n",
       " ('text', 'responses', 'in'),\n",
       " ('responses', 'in', 'natural'),\n",
       " ('in', 'natural', 'language'),\n",
       " ('natural', 'language', '.'),\n",
       " ('language', '.', 'It'),\n",
       " ('.', 'It', 'has'),\n",
       " ('It', 'has', 'been'),\n",
       " ('has', 'been', 'trained'),\n",
       " ('been', 'trained', 'on'),\n",
       " ('trained', 'on', 'a'),\n",
       " ('on', 'a', 'vast'),\n",
       " ('a', 'vast', 'amount'),\n",
       " ('vast', 'amount', 'of'),\n",
       " ('amount', 'of', 'diverse'),\n",
       " ('of', 'diverse', 'internet'),\n",
       " ('diverse', 'internet', 'text'),\n",
       " ('internet', 'text', ','),\n",
       " ('text', ',', 'allowing'),\n",
       " (',', 'allowing', 'it'),\n",
       " ('allowing', 'it', 'to'),\n",
       " ('it', 'to', 'have'),\n",
       " ('to', 'have', 'a'),\n",
       " ('have', 'a', 'broad'),\n",
       " ('a', 'broad', 'understanding'),\n",
       " ('broad', 'understanding', 'of'),\n",
       " ('understanding', 'of', 'numerous'),\n",
       " ('of', 'numerous', 'topics'),\n",
       " ('numerous', 'topics', '.'),\n",
       " ('topics', '.', 'However'),\n",
       " ('.', 'However', ','),\n",
       " ('However', ',', 'it'),\n",
       " (',', 'it', \"'s\"),\n",
       " ('it', \"'s\", 'important'),\n",
       " (\"'s\", 'important', 'to'),\n",
       " ('important', 'to', 'note'),\n",
       " ('to', 'note', 'that'),\n",
       " ('note', 'that', 'ChatGPT'),\n",
       " ('that', 'ChatGPT', \"'s\"),\n",
       " ('ChatGPT', \"'s\", 'responses'),\n",
       " (\"'s\", 'responses', 'are'),\n",
       " ('responses', 'are', 'generated'),\n",
       " ('are', 'generated', 'based'),\n",
       " ('generated', 'based', 'on'),\n",
       " ('based', 'on', 'patterns'),\n",
       " ('on', 'patterns', 'and'),\n",
       " ('patterns', 'and', 'examples'),\n",
       " ('and', 'examples', 'from'),\n",
       " ('examples', 'from', 'its'),\n",
       " ('from', 'its', 'training'),\n",
       " ('its', 'training', 'data'),\n",
       " ('training', 'data', 'and'),\n",
       " ('data', 'and', 'may'),\n",
       " ('and', 'may', 'not'),\n",
       " ('may', 'not', 'always'),\n",
       " ('not', 'always', 'provide'),\n",
       " ('always', 'provide', 'accurate'),\n",
       " ('provide', 'accurate', 'or'),\n",
       " ('accurate', 'or', 'up-to-date'),\n",
       " ('or', 'up-to-date', 'information'),\n",
       " ('up-to-date', 'information', '.')]"
      ]
     },
     "execution_count": 26,
     "metadata": {},
     "output_type": "execute_result"
    }
   ],
   "source": [
    "trigram"
   ]
  },
  {
   "cell_type": "code",
   "execution_count": 27,
   "id": "96c90019",
   "metadata": {},
   "outputs": [],
   "source": [
    "ngram = list(nltk.ngrams(AI_token,4))"
   ]
  },
  {
   "cell_type": "code",
   "execution_count": 28,
   "id": "9a07f60d",
   "metadata": {},
   "outputs": [
    {
     "data": {
      "text/plain": [
       "[('As', 'an', 'AI', 'language'),\n",
       " ('an', 'AI', 'language', 'model'),\n",
       " ('AI', 'language', 'model', ','),\n",
       " ('language', 'model', ',', 'ChatGPT'),\n",
       " ('model', ',', 'ChatGPT', 'is'),\n",
       " (',', 'ChatGPT', 'is', 'designed'),\n",
       " ('ChatGPT', 'is', 'designed', 'to'),\n",
       " ('is', 'designed', 'to', 'understand'),\n",
       " ('designed', 'to', 'understand', 'and'),\n",
       " ('to', 'understand', 'and', 'generate'),\n",
       " ('understand', 'and', 'generate', 'human-like'),\n",
       " ('and', 'generate', 'human-like', 'text'),\n",
       " ('generate', 'human-like', 'text', 'responses'),\n",
       " ('human-like', 'text', 'responses', 'in'),\n",
       " ('text', 'responses', 'in', 'natural'),\n",
       " ('responses', 'in', 'natural', 'language'),\n",
       " ('in', 'natural', 'language', '.'),\n",
       " ('natural', 'language', '.', 'It'),\n",
       " ('language', '.', 'It', 'has'),\n",
       " ('.', 'It', 'has', 'been'),\n",
       " ('It', 'has', 'been', 'trained'),\n",
       " ('has', 'been', 'trained', 'on'),\n",
       " ('been', 'trained', 'on', 'a'),\n",
       " ('trained', 'on', 'a', 'vast'),\n",
       " ('on', 'a', 'vast', 'amount'),\n",
       " ('a', 'vast', 'amount', 'of'),\n",
       " ('vast', 'amount', 'of', 'diverse'),\n",
       " ('amount', 'of', 'diverse', 'internet'),\n",
       " ('of', 'diverse', 'internet', 'text'),\n",
       " ('diverse', 'internet', 'text', ','),\n",
       " ('internet', 'text', ',', 'allowing'),\n",
       " ('text', ',', 'allowing', 'it'),\n",
       " (',', 'allowing', 'it', 'to'),\n",
       " ('allowing', 'it', 'to', 'have'),\n",
       " ('it', 'to', 'have', 'a'),\n",
       " ('to', 'have', 'a', 'broad'),\n",
       " ('have', 'a', 'broad', 'understanding'),\n",
       " ('a', 'broad', 'understanding', 'of'),\n",
       " ('broad', 'understanding', 'of', 'numerous'),\n",
       " ('understanding', 'of', 'numerous', 'topics'),\n",
       " ('of', 'numerous', 'topics', '.'),\n",
       " ('numerous', 'topics', '.', 'However'),\n",
       " ('topics', '.', 'However', ','),\n",
       " ('.', 'However', ',', 'it'),\n",
       " ('However', ',', 'it', \"'s\"),\n",
       " (',', 'it', \"'s\", 'important'),\n",
       " ('it', \"'s\", 'important', 'to'),\n",
       " (\"'s\", 'important', 'to', 'note'),\n",
       " ('important', 'to', 'note', 'that'),\n",
       " ('to', 'note', 'that', 'ChatGPT'),\n",
       " ('note', 'that', 'ChatGPT', \"'s\"),\n",
       " ('that', 'ChatGPT', \"'s\", 'responses'),\n",
       " ('ChatGPT', \"'s\", 'responses', 'are'),\n",
       " (\"'s\", 'responses', 'are', 'generated'),\n",
       " ('responses', 'are', 'generated', 'based'),\n",
       " ('are', 'generated', 'based', 'on'),\n",
       " ('generated', 'based', 'on', 'patterns'),\n",
       " ('based', 'on', 'patterns', 'and'),\n",
       " ('on', 'patterns', 'and', 'examples'),\n",
       " ('patterns', 'and', 'examples', 'from'),\n",
       " ('and', 'examples', 'from', 'its'),\n",
       " ('examples', 'from', 'its', 'training'),\n",
       " ('from', 'its', 'training', 'data'),\n",
       " ('its', 'training', 'data', 'and'),\n",
       " ('training', 'data', 'and', 'may'),\n",
       " ('data', 'and', 'may', 'not'),\n",
       " ('and', 'may', 'not', 'always'),\n",
       " ('may', 'not', 'always', 'provide'),\n",
       " ('not', 'always', 'provide', 'accurate'),\n",
       " ('always', 'provide', 'accurate', 'or'),\n",
       " ('provide', 'accurate', 'or', 'up-to-date'),\n",
       " ('accurate', 'or', 'up-to-date', 'information'),\n",
       " ('or', 'up-to-date', 'information', '.')]"
      ]
     },
     "execution_count": 28,
     "metadata": {},
     "output_type": "execute_result"
    }
   ],
   "source": [
    "ngram"
   ]
  },
  {
   "cell_type": "code",
   "execution_count": 29,
   "id": "e44d5061",
   "metadata": {},
   "outputs": [],
   "source": [
    "ngram = list(nltk.ngrams(AI_token,5))"
   ]
  },
  {
   "cell_type": "code",
   "execution_count": 30,
   "id": "ce81f2b7",
   "metadata": {},
   "outputs": [
    {
     "data": {
      "text/plain": [
       "[('As', 'an', 'AI', 'language', 'model'),\n",
       " ('an', 'AI', 'language', 'model', ','),\n",
       " ('AI', 'language', 'model', ',', 'ChatGPT'),\n",
       " ('language', 'model', ',', 'ChatGPT', 'is'),\n",
       " ('model', ',', 'ChatGPT', 'is', 'designed'),\n",
       " (',', 'ChatGPT', 'is', 'designed', 'to'),\n",
       " ('ChatGPT', 'is', 'designed', 'to', 'understand'),\n",
       " ('is', 'designed', 'to', 'understand', 'and'),\n",
       " ('designed', 'to', 'understand', 'and', 'generate'),\n",
       " ('to', 'understand', 'and', 'generate', 'human-like'),\n",
       " ('understand', 'and', 'generate', 'human-like', 'text'),\n",
       " ('and', 'generate', 'human-like', 'text', 'responses'),\n",
       " ('generate', 'human-like', 'text', 'responses', 'in'),\n",
       " ('human-like', 'text', 'responses', 'in', 'natural'),\n",
       " ('text', 'responses', 'in', 'natural', 'language'),\n",
       " ('responses', 'in', 'natural', 'language', '.'),\n",
       " ('in', 'natural', 'language', '.', 'It'),\n",
       " ('natural', 'language', '.', 'It', 'has'),\n",
       " ('language', '.', 'It', 'has', 'been'),\n",
       " ('.', 'It', 'has', 'been', 'trained'),\n",
       " ('It', 'has', 'been', 'trained', 'on'),\n",
       " ('has', 'been', 'trained', 'on', 'a'),\n",
       " ('been', 'trained', 'on', 'a', 'vast'),\n",
       " ('trained', 'on', 'a', 'vast', 'amount'),\n",
       " ('on', 'a', 'vast', 'amount', 'of'),\n",
       " ('a', 'vast', 'amount', 'of', 'diverse'),\n",
       " ('vast', 'amount', 'of', 'diverse', 'internet'),\n",
       " ('amount', 'of', 'diverse', 'internet', 'text'),\n",
       " ('of', 'diverse', 'internet', 'text', ','),\n",
       " ('diverse', 'internet', 'text', ',', 'allowing'),\n",
       " ('internet', 'text', ',', 'allowing', 'it'),\n",
       " ('text', ',', 'allowing', 'it', 'to'),\n",
       " (',', 'allowing', 'it', 'to', 'have'),\n",
       " ('allowing', 'it', 'to', 'have', 'a'),\n",
       " ('it', 'to', 'have', 'a', 'broad'),\n",
       " ('to', 'have', 'a', 'broad', 'understanding'),\n",
       " ('have', 'a', 'broad', 'understanding', 'of'),\n",
       " ('a', 'broad', 'understanding', 'of', 'numerous'),\n",
       " ('broad', 'understanding', 'of', 'numerous', 'topics'),\n",
       " ('understanding', 'of', 'numerous', 'topics', '.'),\n",
       " ('of', 'numerous', 'topics', '.', 'However'),\n",
       " ('numerous', 'topics', '.', 'However', ','),\n",
       " ('topics', '.', 'However', ',', 'it'),\n",
       " ('.', 'However', ',', 'it', \"'s\"),\n",
       " ('However', ',', 'it', \"'s\", 'important'),\n",
       " (',', 'it', \"'s\", 'important', 'to'),\n",
       " ('it', \"'s\", 'important', 'to', 'note'),\n",
       " (\"'s\", 'important', 'to', 'note', 'that'),\n",
       " ('important', 'to', 'note', 'that', 'ChatGPT'),\n",
       " ('to', 'note', 'that', 'ChatGPT', \"'s\"),\n",
       " ('note', 'that', 'ChatGPT', \"'s\", 'responses'),\n",
       " ('that', 'ChatGPT', \"'s\", 'responses', 'are'),\n",
       " ('ChatGPT', \"'s\", 'responses', 'are', 'generated'),\n",
       " (\"'s\", 'responses', 'are', 'generated', 'based'),\n",
       " ('responses', 'are', 'generated', 'based', 'on'),\n",
       " ('are', 'generated', 'based', 'on', 'patterns'),\n",
       " ('generated', 'based', 'on', 'patterns', 'and'),\n",
       " ('based', 'on', 'patterns', 'and', 'examples'),\n",
       " ('on', 'patterns', 'and', 'examples', 'from'),\n",
       " ('patterns', 'and', 'examples', 'from', 'its'),\n",
       " ('and', 'examples', 'from', 'its', 'training'),\n",
       " ('examples', 'from', 'its', 'training', 'data'),\n",
       " ('from', 'its', 'training', 'data', 'and'),\n",
       " ('its', 'training', 'data', 'and', 'may'),\n",
       " ('training', 'data', 'and', 'may', 'not'),\n",
       " ('data', 'and', 'may', 'not', 'always'),\n",
       " ('and', 'may', 'not', 'always', 'provide'),\n",
       " ('may', 'not', 'always', 'provide', 'accurate'),\n",
       " ('not', 'always', 'provide', 'accurate', 'or'),\n",
       " ('always', 'provide', 'accurate', 'or', 'up-to-date'),\n",
       " ('provide', 'accurate', 'or', 'up-to-date', 'information'),\n",
       " ('accurate', 'or', 'up-to-date', 'information', '.')]"
      ]
     },
     "execution_count": 30,
     "metadata": {},
     "output_type": "execute_result"
    }
   ],
   "source": [
    "ngram"
   ]
  },
  {
   "cell_type": "markdown",
   "id": "9cc1aa03",
   "metadata": {},
   "source": [
    "###  Stemming\n",
    "\n",
    "it will give root form or base form of the word"
   ]
  },
  {
   "cell_type": "code",
   "execution_count": 31,
   "id": "e5f32ce7",
   "metadata": {},
   "outputs": [],
   "source": [
    "from nltk.stem import PorterStemmer\n",
    "pst = PorterStemmer()"
   ]
  },
  {
   "cell_type": "code",
   "execution_count": 32,
   "id": "6e91b50d",
   "metadata": {},
   "outputs": [
    {
     "data": {
      "text/plain": [
       "'affect'"
      ]
     },
     "execution_count": 32,
     "metadata": {},
     "output_type": "execute_result"
    }
   ],
   "source": [
    "pst.stem('affectioned')"
   ]
  },
  {
   "cell_type": "code",
   "execution_count": 33,
   "id": "76bfa137",
   "metadata": {},
   "outputs": [
    {
     "data": {
      "text/plain": [
       "['giving', 'give', 'loving', 'caring', 'typing', 'donating']"
      ]
     },
     "execution_count": 33,
     "metadata": {},
     "output_type": "execute_result"
    }
   ],
   "source": [
    "words_to_stem = ['giving', 'give', 'loving', 'caring', 'typing', 'donating']\n",
    "words_to_stem"
   ]
  },
  {
   "cell_type": "code",
   "execution_count": 34,
   "id": "1dcd49e4",
   "metadata": {},
   "outputs": [
    {
     "name": "stdout",
     "output_type": "stream",
     "text": [
      "giving : give\n",
      "give : give\n",
      "loving : love\n",
      "caring : care\n",
      "typing : type\n",
      "donating : donat\n"
     ]
    }
   ],
   "source": [
    "for words in words_to_stem:\n",
    "    print(words+' : ' + pst.stem(words))"
   ]
  },
  {
   "cell_type": "code",
   "execution_count": 35,
   "id": "4a8724b8",
   "metadata": {},
   "outputs": [],
   "source": [
    "from nltk.stem import LancasterStemmer\n",
    "lst = LancasterStemmer()"
   ]
  },
  {
   "cell_type": "code",
   "execution_count": 36,
   "id": "d45b02f1",
   "metadata": {},
   "outputs": [
    {
     "name": "stdout",
     "output_type": "stream",
     "text": [
      "giving : giv\n",
      "give : giv\n",
      "loving : lov\n",
      "caring : car\n",
      "typing : typ\n",
      "donating : don\n"
     ]
    }
   ],
   "source": [
    "for words in words_to_stem:\n",
    "    print(words+' : ' + lst.stem(words))"
   ]
  },
  {
   "cell_type": "markdown",
   "id": "d4b997ca",
   "metadata": {},
   "source": [
    "### Lematization\n",
    "\n",
    "it will give complete meaningful information of the word"
   ]
  },
  {
   "cell_type": "code",
   "execution_count": 37,
   "id": "38c64cd1",
   "metadata": {},
   "outputs": [],
   "source": [
    "from nltk.stem import wordnet\n",
    "from nltk.stem import WordNetLemmatizer\n",
    "word_lem = WordNetLemmatizer()"
   ]
  },
  {
   "cell_type": "code",
   "execution_count": 38,
   "id": "197113bb",
   "metadata": {},
   "outputs": [
    {
     "data": {
      "text/plain": [
       "['giving', 'give', 'loving', 'caring', 'typing', 'donating']"
      ]
     },
     "execution_count": 38,
     "metadata": {},
     "output_type": "execute_result"
    }
   ],
   "source": [
    "words_to_stem"
   ]
  },
  {
   "cell_type": "code",
   "execution_count": 39,
   "id": "980ea4b2",
   "metadata": {},
   "outputs": [
    {
     "name": "stdout",
     "output_type": "stream",
     "text": [
      "giving : giving\n",
      "give : give\n",
      "loving : loving\n",
      "caring : caring\n",
      "typing : typing\n",
      "donating : donating\n"
     ]
    }
   ],
   "source": [
    "for words in words_to_stem:\n",
    "    print(words+ ' : ' + word_lem.lemmatize(words))"
   ]
  },
  {
   "cell_type": "markdown",
   "id": "e60584b0",
   "metadata": {},
   "source": [
    "# \n",
    "porter stemmer    ---> (giving -- give) \n",
    "\n",
    "lancaster stemmer ---> (giving -- giv) \n",
    "\n",
    "wordnet lemmatizer --> (giving -- giving)\n",
    "\n",
    "stemming vs lemmatizer :\n",
    "\n",
    "stem - root or base form of the word || lemm - complete word"
   ]
  },
  {
   "cell_type": "markdown",
   "id": "0f0c4218",
   "metadata": {},
   "source": [
    "### Stopwords\n",
    "\n",
    "In a sentence continuously speaking words || most repeated words "
   ]
  },
  {
   "cell_type": "code",
   "execution_count": 40,
   "id": "475cd58e",
   "metadata": {},
   "outputs": [],
   "source": [
    "from nltk.corpus import stopwords"
   ]
  },
  {
   "cell_type": "code",
   "execution_count": 41,
   "id": "c1c3466c",
   "metadata": {},
   "outputs": [
    {
     "data": {
      "text/plain": [
       "['i',\n",
       " 'me',\n",
       " 'my',\n",
       " 'myself',\n",
       " 'we',\n",
       " 'our',\n",
       " 'ours',\n",
       " 'ourselves',\n",
       " 'you',\n",
       " \"you're\",\n",
       " \"you've\",\n",
       " \"you'll\",\n",
       " \"you'd\",\n",
       " 'your',\n",
       " 'yours',\n",
       " 'yourself',\n",
       " 'yourselves',\n",
       " 'he',\n",
       " 'him',\n",
       " 'his',\n",
       " 'himself',\n",
       " 'she',\n",
       " \"she's\",\n",
       " 'her',\n",
       " 'hers',\n",
       " 'herself',\n",
       " 'it',\n",
       " \"it's\",\n",
       " 'its',\n",
       " 'itself',\n",
       " 'they',\n",
       " 'them',\n",
       " 'their',\n",
       " 'theirs',\n",
       " 'themselves',\n",
       " 'what',\n",
       " 'which',\n",
       " 'who',\n",
       " 'whom',\n",
       " 'this',\n",
       " 'that',\n",
       " \"that'll\",\n",
       " 'these',\n",
       " 'those',\n",
       " 'am',\n",
       " 'is',\n",
       " 'are',\n",
       " 'was',\n",
       " 'were',\n",
       " 'be',\n",
       " 'been',\n",
       " 'being',\n",
       " 'have',\n",
       " 'has',\n",
       " 'had',\n",
       " 'having',\n",
       " 'do',\n",
       " 'does',\n",
       " 'did',\n",
       " 'doing',\n",
       " 'a',\n",
       " 'an',\n",
       " 'the',\n",
       " 'and',\n",
       " 'but',\n",
       " 'if',\n",
       " 'or',\n",
       " 'because',\n",
       " 'as',\n",
       " 'until',\n",
       " 'while',\n",
       " 'of',\n",
       " 'at',\n",
       " 'by',\n",
       " 'for',\n",
       " 'with',\n",
       " 'about',\n",
       " 'against',\n",
       " 'between',\n",
       " 'into',\n",
       " 'through',\n",
       " 'during',\n",
       " 'before',\n",
       " 'after',\n",
       " 'above',\n",
       " 'below',\n",
       " 'to',\n",
       " 'from',\n",
       " 'up',\n",
       " 'down',\n",
       " 'in',\n",
       " 'out',\n",
       " 'on',\n",
       " 'off',\n",
       " 'over',\n",
       " 'under',\n",
       " 'again',\n",
       " 'further',\n",
       " 'then',\n",
       " 'once',\n",
       " 'here',\n",
       " 'there',\n",
       " 'when',\n",
       " 'where',\n",
       " 'why',\n",
       " 'how',\n",
       " 'all',\n",
       " 'any',\n",
       " 'both',\n",
       " 'each',\n",
       " 'few',\n",
       " 'more',\n",
       " 'most',\n",
       " 'other',\n",
       " 'some',\n",
       " 'such',\n",
       " 'no',\n",
       " 'nor',\n",
       " 'not',\n",
       " 'only',\n",
       " 'own',\n",
       " 'same',\n",
       " 'so',\n",
       " 'than',\n",
       " 'too',\n",
       " 'very',\n",
       " 's',\n",
       " 't',\n",
       " 'can',\n",
       " 'will',\n",
       " 'just',\n",
       " 'don',\n",
       " \"don't\",\n",
       " 'should',\n",
       " \"should've\",\n",
       " 'now',\n",
       " 'd',\n",
       " 'll',\n",
       " 'm',\n",
       " 'o',\n",
       " 're',\n",
       " 've',\n",
       " 'y',\n",
       " 'ain',\n",
       " 'aren',\n",
       " \"aren't\",\n",
       " 'couldn',\n",
       " \"couldn't\",\n",
       " 'didn',\n",
       " \"didn't\",\n",
       " 'doesn',\n",
       " \"doesn't\",\n",
       " 'hadn',\n",
       " \"hadn't\",\n",
       " 'hasn',\n",
       " \"hasn't\",\n",
       " 'haven',\n",
       " \"haven't\",\n",
       " 'isn',\n",
       " \"isn't\",\n",
       " 'ma',\n",
       " 'mightn',\n",
       " \"mightn't\",\n",
       " 'mustn',\n",
       " \"mustn't\",\n",
       " 'needn',\n",
       " \"needn't\",\n",
       " 'shan',\n",
       " \"shan't\",\n",
       " 'shouldn',\n",
       " \"shouldn't\",\n",
       " 'wasn',\n",
       " \"wasn't\",\n",
       " 'weren',\n",
       " \"weren't\",\n",
       " 'won',\n",
       " \"won't\",\n",
       " 'wouldn',\n",
       " \"wouldn't\"]"
      ]
     },
     "execution_count": 41,
     "metadata": {},
     "output_type": "execute_result"
    }
   ],
   "source": [
    "stopwords.words('english')"
   ]
  },
  {
   "cell_type": "code",
   "execution_count": 42,
   "id": "78dffeb5",
   "metadata": {},
   "outputs": [
    {
     "data": {
      "text/plain": [
       "179"
      ]
     },
     "execution_count": 42,
     "metadata": {},
     "output_type": "execute_result"
    }
   ],
   "source": [
    "len(stopwords.words('english'))"
   ]
  },
  {
   "cell_type": "code",
   "execution_count": 43,
   "id": "fac28817",
   "metadata": {},
   "outputs": [
    {
     "data": {
      "text/plain": [
       "['إذ',\n",
       " 'إذا',\n",
       " 'إذما',\n",
       " 'إذن',\n",
       " 'أف',\n",
       " 'أقل',\n",
       " 'أكثر',\n",
       " 'ألا',\n",
       " 'إلا',\n",
       " 'التي',\n",
       " 'الذي',\n",
       " 'الذين',\n",
       " 'اللاتي',\n",
       " 'اللائي',\n",
       " 'اللتان',\n",
       " 'اللتيا',\n",
       " 'اللتين',\n",
       " 'اللذان',\n",
       " 'اللذين',\n",
       " 'اللواتي',\n",
       " 'إلى',\n",
       " 'إليك',\n",
       " 'إليكم',\n",
       " 'إليكما',\n",
       " 'إليكن',\n",
       " 'أم',\n",
       " 'أما',\n",
       " 'أما',\n",
       " 'إما',\n",
       " 'أن',\n",
       " 'إن',\n",
       " 'إنا',\n",
       " 'أنا',\n",
       " 'أنت',\n",
       " 'أنتم',\n",
       " 'أنتما',\n",
       " 'أنتن',\n",
       " 'إنما',\n",
       " 'إنه',\n",
       " 'أنى',\n",
       " 'أنى',\n",
       " 'آه',\n",
       " 'آها',\n",
       " 'أو',\n",
       " 'أولاء',\n",
       " 'أولئك',\n",
       " 'أوه',\n",
       " 'آي',\n",
       " 'أي',\n",
       " 'أيها',\n",
       " 'إي',\n",
       " 'أين',\n",
       " 'أين',\n",
       " 'أينما',\n",
       " 'إيه',\n",
       " 'بخ',\n",
       " 'بس',\n",
       " 'بعد',\n",
       " 'بعض',\n",
       " 'بك',\n",
       " 'بكم',\n",
       " 'بكم',\n",
       " 'بكما',\n",
       " 'بكن',\n",
       " 'بل',\n",
       " 'بلى',\n",
       " 'بما',\n",
       " 'بماذا',\n",
       " 'بمن',\n",
       " 'بنا',\n",
       " 'به',\n",
       " 'بها',\n",
       " 'بهم',\n",
       " 'بهما',\n",
       " 'بهن',\n",
       " 'بي',\n",
       " 'بين',\n",
       " 'بيد',\n",
       " 'تلك',\n",
       " 'تلكم',\n",
       " 'تلكما',\n",
       " 'ته',\n",
       " 'تي',\n",
       " 'تين',\n",
       " 'تينك',\n",
       " 'ثم',\n",
       " 'ثمة',\n",
       " 'حاشا',\n",
       " 'حبذا',\n",
       " 'حتى',\n",
       " 'حيث',\n",
       " 'حيثما',\n",
       " 'حين',\n",
       " 'خلا',\n",
       " 'دون',\n",
       " 'ذا',\n",
       " 'ذات',\n",
       " 'ذاك',\n",
       " 'ذان',\n",
       " 'ذانك',\n",
       " 'ذلك',\n",
       " 'ذلكم',\n",
       " 'ذلكما',\n",
       " 'ذلكن',\n",
       " 'ذه',\n",
       " 'ذو',\n",
       " 'ذوا',\n",
       " 'ذواتا',\n",
       " 'ذواتي',\n",
       " 'ذي',\n",
       " 'ذين',\n",
       " 'ذينك',\n",
       " 'ريث',\n",
       " 'سوف',\n",
       " 'سوى',\n",
       " 'شتان',\n",
       " 'عدا',\n",
       " 'عسى',\n",
       " 'عل',\n",
       " 'على',\n",
       " 'عليك',\n",
       " 'عليه',\n",
       " 'عما',\n",
       " 'عن',\n",
       " 'عند',\n",
       " 'غير',\n",
       " 'فإذا',\n",
       " 'فإن',\n",
       " 'فلا',\n",
       " 'فمن',\n",
       " 'في',\n",
       " 'فيم',\n",
       " 'فيما',\n",
       " 'فيه',\n",
       " 'فيها',\n",
       " 'قد',\n",
       " 'كأن',\n",
       " 'كأنما',\n",
       " 'كأي',\n",
       " 'كأين',\n",
       " 'كذا',\n",
       " 'كذلك',\n",
       " 'كل',\n",
       " 'كلا',\n",
       " 'كلاهما',\n",
       " 'كلتا',\n",
       " 'كلما',\n",
       " 'كليكما',\n",
       " 'كليهما',\n",
       " 'كم',\n",
       " 'كم',\n",
       " 'كما',\n",
       " 'كي',\n",
       " 'كيت',\n",
       " 'كيف',\n",
       " 'كيفما',\n",
       " 'لا',\n",
       " 'لاسيما',\n",
       " 'لدى',\n",
       " 'لست',\n",
       " 'لستم',\n",
       " 'لستما',\n",
       " 'لستن',\n",
       " 'لسن',\n",
       " 'لسنا',\n",
       " 'لعل',\n",
       " 'لك',\n",
       " 'لكم',\n",
       " 'لكما',\n",
       " 'لكن',\n",
       " 'لكنما',\n",
       " 'لكي',\n",
       " 'لكيلا',\n",
       " 'لم',\n",
       " 'لما',\n",
       " 'لن',\n",
       " 'لنا',\n",
       " 'له',\n",
       " 'لها',\n",
       " 'لهم',\n",
       " 'لهما',\n",
       " 'لهن',\n",
       " 'لو',\n",
       " 'لولا',\n",
       " 'لوما',\n",
       " 'لي',\n",
       " 'لئن',\n",
       " 'ليت',\n",
       " 'ليس',\n",
       " 'ليسا',\n",
       " 'ليست',\n",
       " 'ليستا',\n",
       " 'ليسوا',\n",
       " 'ما',\n",
       " 'ماذا',\n",
       " 'متى',\n",
       " 'مذ',\n",
       " 'مع',\n",
       " 'مما',\n",
       " 'ممن',\n",
       " 'من',\n",
       " 'منه',\n",
       " 'منها',\n",
       " 'منذ',\n",
       " 'مه',\n",
       " 'مهما',\n",
       " 'نحن',\n",
       " 'نحو',\n",
       " 'نعم',\n",
       " 'ها',\n",
       " 'هاتان',\n",
       " 'هاته',\n",
       " 'هاتي',\n",
       " 'هاتين',\n",
       " 'هاك',\n",
       " 'هاهنا',\n",
       " 'هذا',\n",
       " 'هذان',\n",
       " 'هذه',\n",
       " 'هذي',\n",
       " 'هذين',\n",
       " 'هكذا',\n",
       " 'هل',\n",
       " 'هلا',\n",
       " 'هم',\n",
       " 'هما',\n",
       " 'هن',\n",
       " 'هنا',\n",
       " 'هناك',\n",
       " 'هنالك',\n",
       " 'هو',\n",
       " 'هؤلاء',\n",
       " 'هي',\n",
       " 'هيا',\n",
       " 'هيت',\n",
       " 'هيهات',\n",
       " 'والذي',\n",
       " 'والذين',\n",
       " 'وإذ',\n",
       " 'وإذا',\n",
       " 'وإن',\n",
       " 'ولا',\n",
       " 'ولكن',\n",
       " 'ولو',\n",
       " 'وما',\n",
       " 'ومن',\n",
       " 'وهو',\n",
       " 'يا',\n",
       " 'أبٌ',\n",
       " 'أخٌ',\n",
       " 'حمٌ',\n",
       " 'فو',\n",
       " 'أنتِ',\n",
       " 'يناير',\n",
       " 'فبراير',\n",
       " 'مارس',\n",
       " 'أبريل',\n",
       " 'مايو',\n",
       " 'يونيو',\n",
       " 'يوليو',\n",
       " 'أغسطس',\n",
       " 'سبتمبر',\n",
       " 'أكتوبر',\n",
       " 'نوفمبر',\n",
       " 'ديسمبر',\n",
       " 'جانفي',\n",
       " 'فيفري',\n",
       " 'مارس',\n",
       " 'أفريل',\n",
       " 'ماي',\n",
       " 'جوان',\n",
       " 'جويلية',\n",
       " 'أوت',\n",
       " 'كانون',\n",
       " 'شباط',\n",
       " 'آذار',\n",
       " 'نيسان',\n",
       " 'أيار',\n",
       " 'حزيران',\n",
       " 'تموز',\n",
       " 'آب',\n",
       " 'أيلول',\n",
       " 'تشرين',\n",
       " 'دولار',\n",
       " 'دينار',\n",
       " 'ريال',\n",
       " 'درهم',\n",
       " 'ليرة',\n",
       " 'جنيه',\n",
       " 'قرش',\n",
       " 'مليم',\n",
       " 'فلس',\n",
       " 'هللة',\n",
       " 'سنتيم',\n",
       " 'يورو',\n",
       " 'ين',\n",
       " 'يوان',\n",
       " 'شيكل',\n",
       " 'واحد',\n",
       " 'اثنان',\n",
       " 'ثلاثة',\n",
       " 'أربعة',\n",
       " 'خمسة',\n",
       " 'ستة',\n",
       " 'سبعة',\n",
       " 'ثمانية',\n",
       " 'تسعة',\n",
       " 'عشرة',\n",
       " 'أحد',\n",
       " 'اثنا',\n",
       " 'اثني',\n",
       " 'إحدى',\n",
       " 'ثلاث',\n",
       " 'أربع',\n",
       " 'خمس',\n",
       " 'ست',\n",
       " 'سبع',\n",
       " 'ثماني',\n",
       " 'تسع',\n",
       " 'عشر',\n",
       " 'ثمان',\n",
       " 'سبت',\n",
       " 'أحد',\n",
       " 'اثنين',\n",
       " 'ثلاثاء',\n",
       " 'أربعاء',\n",
       " 'خميس',\n",
       " 'جمعة',\n",
       " 'أول',\n",
       " 'ثان',\n",
       " 'ثاني',\n",
       " 'ثالث',\n",
       " 'رابع',\n",
       " 'خامس',\n",
       " 'سادس',\n",
       " 'سابع',\n",
       " 'ثامن',\n",
       " 'تاسع',\n",
       " 'عاشر',\n",
       " 'حادي',\n",
       " 'أ',\n",
       " 'ب',\n",
       " 'ت',\n",
       " 'ث',\n",
       " 'ج',\n",
       " 'ح',\n",
       " 'خ',\n",
       " 'د',\n",
       " 'ذ',\n",
       " 'ر',\n",
       " 'ز',\n",
       " 'س',\n",
       " 'ش',\n",
       " 'ص',\n",
       " 'ض',\n",
       " 'ط',\n",
       " 'ظ',\n",
       " 'ع',\n",
       " 'غ',\n",
       " 'ف',\n",
       " 'ق',\n",
       " 'ك',\n",
       " 'ل',\n",
       " 'م',\n",
       " 'ن',\n",
       " 'ه',\n",
       " 'و',\n",
       " 'ي',\n",
       " 'ء',\n",
       " 'ى',\n",
       " 'آ',\n",
       " 'ؤ',\n",
       " 'ئ',\n",
       " 'أ',\n",
       " 'ة',\n",
       " 'ألف',\n",
       " 'باء',\n",
       " 'تاء',\n",
       " 'ثاء',\n",
       " 'جيم',\n",
       " 'حاء',\n",
       " 'خاء',\n",
       " 'دال',\n",
       " 'ذال',\n",
       " 'راء',\n",
       " 'زاي',\n",
       " 'سين',\n",
       " 'شين',\n",
       " 'صاد',\n",
       " 'ضاد',\n",
       " 'طاء',\n",
       " 'ظاء',\n",
       " 'عين',\n",
       " 'غين',\n",
       " 'فاء',\n",
       " 'قاف',\n",
       " 'كاف',\n",
       " 'لام',\n",
       " 'ميم',\n",
       " 'نون',\n",
       " 'هاء',\n",
       " 'واو',\n",
       " 'ياء',\n",
       " 'همزة',\n",
       " 'ي',\n",
       " 'نا',\n",
       " 'ك',\n",
       " 'كن',\n",
       " 'ه',\n",
       " 'إياه',\n",
       " 'إياها',\n",
       " 'إياهما',\n",
       " 'إياهم',\n",
       " 'إياهن',\n",
       " 'إياك',\n",
       " 'إياكما',\n",
       " 'إياكم',\n",
       " 'إياك',\n",
       " 'إياكن',\n",
       " 'إياي',\n",
       " 'إيانا',\n",
       " 'أولالك',\n",
       " 'تانِ',\n",
       " 'تانِك',\n",
       " 'تِه',\n",
       " 'تِي',\n",
       " 'تَيْنِ',\n",
       " 'ثمّ',\n",
       " 'ثمّة',\n",
       " 'ذانِ',\n",
       " 'ذِه',\n",
       " 'ذِي',\n",
       " 'ذَيْنِ',\n",
       " 'هَؤلاء',\n",
       " 'هَاتانِ',\n",
       " 'هَاتِه',\n",
       " 'هَاتِي',\n",
       " 'هَاتَيْنِ',\n",
       " 'هَذا',\n",
       " 'هَذانِ',\n",
       " 'هَذِه',\n",
       " 'هَذِي',\n",
       " 'هَذَيْنِ',\n",
       " 'الألى',\n",
       " 'الألاء',\n",
       " 'أل',\n",
       " 'أنّى',\n",
       " 'أيّ',\n",
       " 'ّأيّان',\n",
       " 'أنّى',\n",
       " 'أيّ',\n",
       " 'ّأيّان',\n",
       " 'ذيت',\n",
       " 'كأيّ',\n",
       " 'كأيّن',\n",
       " 'بضع',\n",
       " 'فلان',\n",
       " 'وا',\n",
       " 'آمينَ',\n",
       " 'آهِ',\n",
       " 'آهٍ',\n",
       " 'آهاً',\n",
       " 'أُفٍّ',\n",
       " 'أُفٍّ',\n",
       " 'أفٍّ',\n",
       " 'أمامك',\n",
       " 'أمامكَ',\n",
       " 'أوّهْ',\n",
       " 'إلَيْكَ',\n",
       " 'إلَيْكَ',\n",
       " 'إليكَ',\n",
       " 'إليكنّ',\n",
       " 'إيهٍ',\n",
       " 'بخٍ',\n",
       " 'بسّ',\n",
       " 'بَسْ',\n",
       " 'بطآن',\n",
       " 'بَلْهَ',\n",
       " 'حاي',\n",
       " 'حَذارِ',\n",
       " 'حيَّ',\n",
       " 'حيَّ',\n",
       " 'دونك',\n",
       " 'رويدك',\n",
       " 'سرعان',\n",
       " 'شتانَ',\n",
       " 'شَتَّانَ',\n",
       " 'صهْ',\n",
       " 'صهٍ',\n",
       " 'طاق',\n",
       " 'طَق',\n",
       " 'عَدَسْ',\n",
       " 'كِخ',\n",
       " 'مكانَك',\n",
       " 'مكانَك',\n",
       " 'مكانَك',\n",
       " 'مكانكم',\n",
       " 'مكانكما',\n",
       " 'مكانكنّ',\n",
       " 'نَخْ',\n",
       " 'هاكَ',\n",
       " 'هَجْ',\n",
       " 'هلم',\n",
       " 'هيّا',\n",
       " 'هَيْهات',\n",
       " 'وا',\n",
       " 'واهاً',\n",
       " 'وراءَك',\n",
       " 'وُشْكَانَ',\n",
       " 'وَيْ',\n",
       " 'يفعلان',\n",
       " 'تفعلان',\n",
       " 'يفعلون',\n",
       " 'تفعلون',\n",
       " 'تفعلين',\n",
       " 'اتخذ',\n",
       " 'ألفى',\n",
       " 'تخذ',\n",
       " 'ترك',\n",
       " 'تعلَّم',\n",
       " 'جعل',\n",
       " 'حجا',\n",
       " 'حبيب',\n",
       " 'خال',\n",
       " 'حسب',\n",
       " 'خال',\n",
       " 'درى',\n",
       " 'رأى',\n",
       " 'زعم',\n",
       " 'صبر',\n",
       " 'ظنَّ',\n",
       " 'عدَّ',\n",
       " 'علم',\n",
       " 'غادر',\n",
       " 'ذهب',\n",
       " 'وجد',\n",
       " 'ورد',\n",
       " 'وهب',\n",
       " 'أسكن',\n",
       " 'أطعم',\n",
       " 'أعطى',\n",
       " 'رزق',\n",
       " 'زود',\n",
       " 'سقى',\n",
       " 'كسا',\n",
       " 'أخبر',\n",
       " 'أرى',\n",
       " 'أعلم',\n",
       " 'أنبأ',\n",
       " 'حدَث',\n",
       " 'خبَّر',\n",
       " 'نبَّا',\n",
       " 'أفعل به',\n",
       " 'ما أفعله',\n",
       " 'بئس',\n",
       " 'ساء',\n",
       " 'طالما',\n",
       " 'قلما',\n",
       " 'لات',\n",
       " 'لكنَّ',\n",
       " 'ءَ',\n",
       " 'أجل',\n",
       " 'إذاً',\n",
       " 'أمّا',\n",
       " 'إمّا',\n",
       " 'إنَّ',\n",
       " 'أنًّ',\n",
       " 'أى',\n",
       " 'إى',\n",
       " 'أيا',\n",
       " 'ب',\n",
       " 'ثمَّ',\n",
       " 'جلل',\n",
       " 'جير',\n",
       " 'رُبَّ',\n",
       " 'س',\n",
       " 'علًّ',\n",
       " 'ف',\n",
       " 'كأنّ',\n",
       " 'كلَّا',\n",
       " 'كى',\n",
       " 'ل',\n",
       " 'لات',\n",
       " 'لعلَّ',\n",
       " 'لكنَّ',\n",
       " 'لكنَّ',\n",
       " 'م',\n",
       " 'نَّ',\n",
       " 'هلّا',\n",
       " 'وا',\n",
       " 'أل',\n",
       " 'إلّا',\n",
       " 'ت',\n",
       " 'ك',\n",
       " 'لمّا',\n",
       " 'ن',\n",
       " 'ه',\n",
       " 'و',\n",
       " 'ا',\n",
       " 'ي',\n",
       " 'تجاه',\n",
       " 'تلقاء',\n",
       " 'جميع',\n",
       " 'حسب',\n",
       " 'سبحان',\n",
       " 'شبه',\n",
       " 'لعمر',\n",
       " 'مثل',\n",
       " 'معاذ',\n",
       " 'أبو',\n",
       " 'أخو',\n",
       " 'حمو',\n",
       " 'فو',\n",
       " 'مئة',\n",
       " 'مئتان',\n",
       " 'ثلاثمئة',\n",
       " 'أربعمئة',\n",
       " 'خمسمئة',\n",
       " 'ستمئة',\n",
       " 'سبعمئة',\n",
       " 'ثمنمئة',\n",
       " 'تسعمئة',\n",
       " 'مائة',\n",
       " 'ثلاثمائة',\n",
       " 'أربعمائة',\n",
       " 'خمسمائة',\n",
       " 'ستمائة',\n",
       " 'سبعمائة',\n",
       " 'ثمانمئة',\n",
       " 'تسعمائة',\n",
       " 'عشرون',\n",
       " 'ثلاثون',\n",
       " 'اربعون',\n",
       " 'خمسون',\n",
       " 'ستون',\n",
       " 'سبعون',\n",
       " 'ثمانون',\n",
       " 'تسعون',\n",
       " 'عشرين',\n",
       " 'ثلاثين',\n",
       " 'اربعين',\n",
       " 'خمسين',\n",
       " 'ستين',\n",
       " 'سبعين',\n",
       " 'ثمانين',\n",
       " 'تسعين',\n",
       " 'بضع',\n",
       " 'نيف',\n",
       " 'أجمع',\n",
       " 'جميع',\n",
       " 'عامة',\n",
       " 'عين',\n",
       " 'نفس',\n",
       " 'لا سيما',\n",
       " 'أصلا',\n",
       " 'أهلا',\n",
       " 'أيضا',\n",
       " 'بؤسا',\n",
       " 'بعدا',\n",
       " 'بغتة',\n",
       " 'تعسا',\n",
       " 'حقا',\n",
       " 'حمدا',\n",
       " 'خلافا',\n",
       " 'خاصة',\n",
       " 'دواليك',\n",
       " 'سحقا',\n",
       " 'سرا',\n",
       " 'سمعا',\n",
       " 'صبرا',\n",
       " 'صدقا',\n",
       " 'صراحة',\n",
       " 'طرا',\n",
       " 'عجبا',\n",
       " 'عيانا',\n",
       " 'غالبا',\n",
       " 'فرادى',\n",
       " 'فضلا',\n",
       " 'قاطبة',\n",
       " 'كثيرا',\n",
       " 'لبيك',\n",
       " 'معاذ',\n",
       " 'أبدا',\n",
       " 'إزاء',\n",
       " 'أصلا',\n",
       " 'الآن',\n",
       " 'أمد',\n",
       " 'أمس',\n",
       " 'آنفا',\n",
       " 'آناء',\n",
       " 'أنّى',\n",
       " 'أول',\n",
       " 'أيّان',\n",
       " 'تارة',\n",
       " 'ثمّ',\n",
       " 'ثمّة',\n",
       " 'حقا',\n",
       " 'صباح',\n",
       " 'مساء',\n",
       " 'ضحوة',\n",
       " 'عوض',\n",
       " 'غدا',\n",
       " 'غداة',\n",
       " 'قطّ',\n",
       " 'كلّما',\n",
       " 'لدن',\n",
       " 'لمّا',\n",
       " 'مرّة',\n",
       " 'قبل',\n",
       " 'خلف',\n",
       " 'أمام',\n",
       " 'فوق',\n",
       " 'تحت',\n",
       " 'يمين',\n",
       " 'شمال',\n",
       " 'ارتدّ',\n",
       " 'استحال',\n",
       " 'أصبح',\n",
       " 'أضحى',\n",
       " 'آض',\n",
       " 'أمسى',\n",
       " 'انقلب',\n",
       " 'بات',\n",
       " 'تبدّل',\n",
       " 'تحوّل',\n",
       " 'حار',\n",
       " 'رجع',\n",
       " 'راح',\n",
       " 'صار',\n",
       " 'ظلّ',\n",
       " 'عاد',\n",
       " 'غدا',\n",
       " 'كان',\n",
       " 'ما انفك',\n",
       " 'ما برح',\n",
       " 'مادام',\n",
       " 'مازال',\n",
       " 'مافتئ',\n",
       " 'ابتدأ',\n",
       " 'أخذ',\n",
       " 'اخلولق',\n",
       " 'أقبل',\n",
       " 'انبرى',\n",
       " 'أنشأ',\n",
       " 'أوشك',\n",
       " 'جعل',\n",
       " 'حرى',\n",
       " 'شرع',\n",
       " 'طفق',\n",
       " 'علق',\n",
       " 'قام',\n",
       " 'كرب',\n",
       " 'كاد',\n",
       " 'هبّ']"
      ]
     },
     "execution_count": 43,
     "metadata": {},
     "output_type": "execute_result"
    }
   ],
   "source": [
    "stopwords.words('arabic')"
   ]
  },
  {
   "cell_type": "code",
   "execution_count": 44,
   "id": "2e00890a",
   "metadata": {},
   "outputs": [
    {
     "data": {
      "text/plain": [
       "754"
      ]
     },
     "execution_count": 44,
     "metadata": {},
     "output_type": "execute_result"
    }
   ],
   "source": [
    "len(stopwords.words('arabic'))"
   ]
  },
  {
   "cell_type": "code",
   "execution_count": 45,
   "id": "ca6a4192",
   "metadata": {},
   "outputs": [
    {
     "data": {
      "text/plain": [
       "['au',\n",
       " 'aux',\n",
       " 'avec',\n",
       " 'ce',\n",
       " 'ces',\n",
       " 'dans',\n",
       " 'de',\n",
       " 'des',\n",
       " 'du',\n",
       " 'elle',\n",
       " 'en',\n",
       " 'et',\n",
       " 'eux',\n",
       " 'il',\n",
       " 'ils',\n",
       " 'je',\n",
       " 'la',\n",
       " 'le',\n",
       " 'les',\n",
       " 'leur',\n",
       " 'lui',\n",
       " 'ma',\n",
       " 'mais',\n",
       " 'me',\n",
       " 'même',\n",
       " 'mes',\n",
       " 'moi',\n",
       " 'mon',\n",
       " 'ne',\n",
       " 'nos',\n",
       " 'notre',\n",
       " 'nous',\n",
       " 'on',\n",
       " 'ou',\n",
       " 'par',\n",
       " 'pas',\n",
       " 'pour',\n",
       " 'qu',\n",
       " 'que',\n",
       " 'qui',\n",
       " 'sa',\n",
       " 'se',\n",
       " 'ses',\n",
       " 'son',\n",
       " 'sur',\n",
       " 'ta',\n",
       " 'te',\n",
       " 'tes',\n",
       " 'toi',\n",
       " 'ton',\n",
       " 'tu',\n",
       " 'un',\n",
       " 'une',\n",
       " 'vos',\n",
       " 'votre',\n",
       " 'vous',\n",
       " 'c',\n",
       " 'd',\n",
       " 'j',\n",
       " 'l',\n",
       " 'à',\n",
       " 'm',\n",
       " 'n',\n",
       " 's',\n",
       " 't',\n",
       " 'y',\n",
       " 'été',\n",
       " 'étée',\n",
       " 'étées',\n",
       " 'étés',\n",
       " 'étant',\n",
       " 'étante',\n",
       " 'étants',\n",
       " 'étantes',\n",
       " 'suis',\n",
       " 'es',\n",
       " 'est',\n",
       " 'sommes',\n",
       " 'êtes',\n",
       " 'sont',\n",
       " 'serai',\n",
       " 'seras',\n",
       " 'sera',\n",
       " 'serons',\n",
       " 'serez',\n",
       " 'seront',\n",
       " 'serais',\n",
       " 'serait',\n",
       " 'serions',\n",
       " 'seriez',\n",
       " 'seraient',\n",
       " 'étais',\n",
       " 'était',\n",
       " 'étions',\n",
       " 'étiez',\n",
       " 'étaient',\n",
       " 'fus',\n",
       " 'fut',\n",
       " 'fûmes',\n",
       " 'fûtes',\n",
       " 'furent',\n",
       " 'sois',\n",
       " 'soit',\n",
       " 'soyons',\n",
       " 'soyez',\n",
       " 'soient',\n",
       " 'fusse',\n",
       " 'fusses',\n",
       " 'fût',\n",
       " 'fussions',\n",
       " 'fussiez',\n",
       " 'fussent',\n",
       " 'ayant',\n",
       " 'ayante',\n",
       " 'ayantes',\n",
       " 'ayants',\n",
       " 'eu',\n",
       " 'eue',\n",
       " 'eues',\n",
       " 'eus',\n",
       " 'ai',\n",
       " 'as',\n",
       " 'avons',\n",
       " 'avez',\n",
       " 'ont',\n",
       " 'aurai',\n",
       " 'auras',\n",
       " 'aura',\n",
       " 'aurons',\n",
       " 'aurez',\n",
       " 'auront',\n",
       " 'aurais',\n",
       " 'aurait',\n",
       " 'aurions',\n",
       " 'auriez',\n",
       " 'auraient',\n",
       " 'avais',\n",
       " 'avait',\n",
       " 'avions',\n",
       " 'aviez',\n",
       " 'avaient',\n",
       " 'eut',\n",
       " 'eûmes',\n",
       " 'eûtes',\n",
       " 'eurent',\n",
       " 'aie',\n",
       " 'aies',\n",
       " 'ait',\n",
       " 'ayons',\n",
       " 'ayez',\n",
       " 'aient',\n",
       " 'eusse',\n",
       " 'eusses',\n",
       " 'eût',\n",
       " 'eussions',\n",
       " 'eussiez',\n",
       " 'eussent']"
      ]
     },
     "execution_count": 45,
     "metadata": {},
     "output_type": "execute_result"
    }
   ],
   "source": [
    "stopwords.words('french')"
   ]
  },
  {
   "cell_type": "code",
   "execution_count": 46,
   "id": "50730edb",
   "metadata": {},
   "outputs": [
    {
     "data": {
      "text/plain": [
       "157"
      ]
     },
     "execution_count": 46,
     "metadata": {},
     "output_type": "execute_result"
    }
   ],
   "source": [
    "len(stopwords.words('french'))"
   ]
  },
  {
   "cell_type": "code",
   "execution_count": 47,
   "id": "2d813a35",
   "metadata": {},
   "outputs": [
    {
     "ename": "OSError",
     "evalue": "No such file or directory: 'C:\\\\Users\\\\SAMEER\\\\AppData\\\\Roaming\\\\nltk_data\\\\corpora\\\\stopwords\\\\hindi'",
     "output_type": "error",
     "traceback": [
      "\u001b[1;31m---------------------------------------------------------------------------\u001b[0m",
      "\u001b[1;31mOSError\u001b[0m                                   Traceback (most recent call last)",
      "Cell \u001b[1;32mIn[47], line 1\u001b[0m\n\u001b[1;32m----> 1\u001b[0m \u001b[43mstopwords\u001b[49m\u001b[38;5;241;43m.\u001b[39;49m\u001b[43mwords\u001b[49m\u001b[43m(\u001b[49m\u001b[38;5;124;43m'\u001b[39;49m\u001b[38;5;124;43mhindi\u001b[39;49m\u001b[38;5;124;43m'\u001b[39;49m\u001b[43m)\u001b[49m\n",
      "File \u001b[1;32m~\\anaconda3\\envs\\tensorflow_env\\lib\\site-packages\\nltk\\corpus\\reader\\wordlist.py:21\u001b[0m, in \u001b[0;36mWordListCorpusReader.words\u001b[1;34m(self, fileids, ignore_lines_startswith)\u001b[0m\n\u001b[0;32m     18\u001b[0m \u001b[38;5;28;01mdef\u001b[39;00m \u001b[38;5;21mwords\u001b[39m(\u001b[38;5;28mself\u001b[39m, fileids\u001b[38;5;241m=\u001b[39m\u001b[38;5;28;01mNone\u001b[39;00m, ignore_lines_startswith\u001b[38;5;241m=\u001b[39m\u001b[38;5;124m\"\u001b[39m\u001b[38;5;130;01m\\n\u001b[39;00m\u001b[38;5;124m\"\u001b[39m):\n\u001b[0;32m     19\u001b[0m     \u001b[38;5;28;01mreturn\u001b[39;00m [\n\u001b[0;32m     20\u001b[0m         line\n\u001b[1;32m---> 21\u001b[0m         \u001b[38;5;28;01mfor\u001b[39;00m line \u001b[38;5;129;01min\u001b[39;00m line_tokenize(\u001b[38;5;28;43mself\u001b[39;49m\u001b[38;5;241;43m.\u001b[39;49m\u001b[43mraw\u001b[49m\u001b[43m(\u001b[49m\u001b[43mfileids\u001b[49m\u001b[43m)\u001b[49m)\n\u001b[0;32m     22\u001b[0m         \u001b[38;5;28;01mif\u001b[39;00m \u001b[38;5;129;01mnot\u001b[39;00m line\u001b[38;5;241m.\u001b[39mstartswith(ignore_lines_startswith)\n\u001b[0;32m     23\u001b[0m     ]\n",
      "File \u001b[1;32m~\\anaconda3\\envs\\tensorflow_env\\lib\\site-packages\\nltk\\corpus\\reader\\api.py:218\u001b[0m, in \u001b[0;36mCorpusReader.raw\u001b[1;34m(self, fileids)\u001b[0m\n\u001b[0;32m    216\u001b[0m contents \u001b[38;5;241m=\u001b[39m []\n\u001b[0;32m    217\u001b[0m \u001b[38;5;28;01mfor\u001b[39;00m f \u001b[38;5;129;01min\u001b[39;00m fileids:\n\u001b[1;32m--> 218\u001b[0m     \u001b[38;5;28;01mwith\u001b[39;00m \u001b[38;5;28;43mself\u001b[39;49m\u001b[38;5;241;43m.\u001b[39;49m\u001b[43mopen\u001b[49m\u001b[43m(\u001b[49m\u001b[43mf\u001b[49m\u001b[43m)\u001b[49m \u001b[38;5;28;01mas\u001b[39;00m fp:\n\u001b[0;32m    219\u001b[0m         contents\u001b[38;5;241m.\u001b[39mappend(fp\u001b[38;5;241m.\u001b[39mread())\n\u001b[0;32m    220\u001b[0m \u001b[38;5;28;01mreturn\u001b[39;00m concat(contents)\n",
      "File \u001b[1;32m~\\anaconda3\\envs\\tensorflow_env\\lib\\site-packages\\nltk\\corpus\\reader\\api.py:231\u001b[0m, in \u001b[0;36mCorpusReader.open\u001b[1;34m(self, file)\u001b[0m\n\u001b[0;32m    223\u001b[0m \u001b[38;5;124;03m\"\"\"\u001b[39;00m\n\u001b[0;32m    224\u001b[0m \u001b[38;5;124;03mReturn an open stream that can be used to read the given file.\u001b[39;00m\n\u001b[0;32m    225\u001b[0m \u001b[38;5;124;03mIf the file's encoding is not None, then the stream will\u001b[39;00m\n\u001b[1;32m   (...)\u001b[0m\n\u001b[0;32m    228\u001b[0m \u001b[38;5;124;03m:param file: The file identifier of the file to read.\u001b[39;00m\n\u001b[0;32m    229\u001b[0m \u001b[38;5;124;03m\"\"\"\u001b[39;00m\n\u001b[0;32m    230\u001b[0m encoding \u001b[38;5;241m=\u001b[39m \u001b[38;5;28mself\u001b[39m\u001b[38;5;241m.\u001b[39mencoding(file)\n\u001b[1;32m--> 231\u001b[0m stream \u001b[38;5;241m=\u001b[39m \u001b[38;5;28;43mself\u001b[39;49m\u001b[38;5;241;43m.\u001b[39;49m\u001b[43m_root\u001b[49m\u001b[38;5;241;43m.\u001b[39;49m\u001b[43mjoin\u001b[49m\u001b[43m(\u001b[49m\u001b[43mfile\u001b[49m\u001b[43m)\u001b[49m\u001b[38;5;241m.\u001b[39mopen(encoding)\n\u001b[0;32m    232\u001b[0m \u001b[38;5;28;01mreturn\u001b[39;00m stream\n",
      "File \u001b[1;32m~\\anaconda3\\envs\\tensorflow_env\\lib\\site-packages\\nltk\\data.py:334\u001b[0m, in \u001b[0;36mFileSystemPathPointer.join\u001b[1;34m(self, fileid)\u001b[0m\n\u001b[0;32m    332\u001b[0m \u001b[38;5;28;01mdef\u001b[39;00m \u001b[38;5;21mjoin\u001b[39m(\u001b[38;5;28mself\u001b[39m, fileid):\n\u001b[0;32m    333\u001b[0m     _path \u001b[38;5;241m=\u001b[39m os\u001b[38;5;241m.\u001b[39mpath\u001b[38;5;241m.\u001b[39mjoin(\u001b[38;5;28mself\u001b[39m\u001b[38;5;241m.\u001b[39m_path, fileid)\n\u001b[1;32m--> 334\u001b[0m     \u001b[38;5;28;01mreturn\u001b[39;00m \u001b[43mFileSystemPathPointer\u001b[49m\u001b[43m(\u001b[49m\u001b[43m_path\u001b[49m\u001b[43m)\u001b[49m\n",
      "File \u001b[1;32m~\\anaconda3\\envs\\tensorflow_env\\lib\\site-packages\\nltk\\compat.py:41\u001b[0m, in \u001b[0;36mpy3_data.<locals>._decorator\u001b[1;34m(*args, **kwargs)\u001b[0m\n\u001b[0;32m     39\u001b[0m \u001b[38;5;28;01mdef\u001b[39;00m \u001b[38;5;21m_decorator\u001b[39m(\u001b[38;5;241m*\u001b[39margs, \u001b[38;5;241m*\u001b[39m\u001b[38;5;241m*\u001b[39mkwargs):\n\u001b[0;32m     40\u001b[0m     args \u001b[38;5;241m=\u001b[39m (args[\u001b[38;5;241m0\u001b[39m], add_py3_data(args[\u001b[38;5;241m1\u001b[39m])) \u001b[38;5;241m+\u001b[39m args[\u001b[38;5;241m2\u001b[39m:]\n\u001b[1;32m---> 41\u001b[0m     \u001b[38;5;28;01mreturn\u001b[39;00m init_func(\u001b[38;5;241m*\u001b[39margs, \u001b[38;5;241m*\u001b[39m\u001b[38;5;241m*\u001b[39mkwargs)\n",
      "File \u001b[1;32m~\\anaconda3\\envs\\tensorflow_env\\lib\\site-packages\\nltk\\data.py:312\u001b[0m, in \u001b[0;36mFileSystemPathPointer.__init__\u001b[1;34m(self, _path)\u001b[0m\n\u001b[0;32m    310\u001b[0m _path \u001b[38;5;241m=\u001b[39m os\u001b[38;5;241m.\u001b[39mpath\u001b[38;5;241m.\u001b[39mabspath(_path)\n\u001b[0;32m    311\u001b[0m \u001b[38;5;28;01mif\u001b[39;00m \u001b[38;5;129;01mnot\u001b[39;00m os\u001b[38;5;241m.\u001b[39mpath\u001b[38;5;241m.\u001b[39mexists(_path):\n\u001b[1;32m--> 312\u001b[0m     \u001b[38;5;28;01mraise\u001b[39;00m \u001b[38;5;167;01mOSError\u001b[39;00m(\u001b[38;5;124m\"\u001b[39m\u001b[38;5;124mNo such file or directory: \u001b[39m\u001b[38;5;132;01m%r\u001b[39;00m\u001b[38;5;124m\"\u001b[39m \u001b[38;5;241m%\u001b[39m _path)\n\u001b[0;32m    313\u001b[0m \u001b[38;5;28mself\u001b[39m\u001b[38;5;241m.\u001b[39m_path \u001b[38;5;241m=\u001b[39m _path\n",
      "\u001b[1;31mOSError\u001b[0m: No such file or directory: 'C:\\\\Users\\\\SAMEER\\\\AppData\\\\Roaming\\\\nltk_data\\\\corpora\\\\stopwords\\\\hindi'"
     ]
    }
   ],
   "source": [
    "stopwords.words('hindi')   # LOCAL LANGUAGE"
   ]
  },
  {
   "cell_type": "markdown",
   "id": "73a620de",
   "metadata": {},
   "source": [
    "### POS (part of speech)\n",
    "\n",
    "it will give the grammar of the sentence"
   ]
  },
  {
   "cell_type": "code",
   "execution_count": 48,
   "id": "b558ccbf",
   "metadata": {},
   "outputs": [
    {
     "data": {
      "text/plain": [
       "'sam is natural when come to drawing'"
      ]
     },
     "execution_count": 48,
     "metadata": {},
     "output_type": "execute_result"
    }
   ],
   "source": [
    "sent = 'sam is natural when come to drawing'\n",
    "sent"
   ]
  },
  {
   "cell_type": "code",
   "execution_count": 49,
   "id": "b83c9834",
   "metadata": {},
   "outputs": [
    {
     "data": {
      "text/plain": [
       "['sam', 'is', 'natural', 'when', 'come', 'to', 'drawing']"
      ]
     },
     "execution_count": 49,
     "metadata": {},
     "output_type": "execute_result"
    }
   ],
   "source": [
    "sent_tokens =  word_tokenize(sent)\n",
    "sent_tokens"
   ]
  },
  {
   "cell_type": "code",
   "execution_count": 50,
   "id": "bd47aa18",
   "metadata": {},
   "outputs": [
    {
     "data": {
      "text/plain": [
       "7"
      ]
     },
     "execution_count": 50,
     "metadata": {},
     "output_type": "execute_result"
    }
   ],
   "source": [
    "(len(sent_tokens))"
   ]
  },
  {
   "cell_type": "code",
   "execution_count": 51,
   "id": "04696757",
   "metadata": {},
   "outputs": [
    {
     "name": "stdout",
     "output_type": "stream",
     "text": [
      "[('sam', 'NN')]\n",
      "[('is', 'VBZ')]\n",
      "[('natural', 'JJ')]\n",
      "[('when', 'WRB')]\n",
      "[('come', 'VB')]\n",
      "[('to', 'TO')]\n",
      "[('drawing', 'VBG')]\n"
     ]
    }
   ],
   "source": [
    "for token in sent_tokens:\n",
    "    print(nltk.pos_tag([token]))"
   ]
  },
  {
   "cell_type": "markdown",
   "id": "ab6ac60d",
   "metadata": {},
   "source": [
    "# \n",
    "Text Cleaning - Vectorization\n",
    "\n",
    "text we will vectorize to number -- convert to 0 & 1\n"
   ]
  },
  {
   "cell_type": "markdown",
   "id": "4e2486bc",
   "metadata": {},
   "source": [
    "## NLU - NATURAL LANGUAGE UNDERSTANDING\n",
    "\n",
    "- Nltk - (tokens,stem,lemm,pos---)"
   ]
  },
  {
   "cell_type": "markdown",
   "id": "97955429",
   "metadata": {},
   "source": [
    "## NLG - NATURAL LANGUAGE GENERATION"
   ]
  },
  {
   "cell_type": "markdown",
   "id": "1e0aa3e0",
   "metadata": {},
   "source": [
    "### Wordcloud"
   ]
  },
  {
   "cell_type": "code",
   "execution_count": 52,
   "id": "ec21e7c8",
   "metadata": {},
   "outputs": [],
   "source": [
    "from wordcloud import WordCloud\n",
    "import matplotlib.pyplot as plt"
   ]
  },
  {
   "cell_type": "code",
   "execution_count": 53,
   "id": "2984a9a8",
   "metadata": {},
   "outputs": [],
   "source": [
    "text = ('Python python python matplotlib sns sns matplotlib python machine learning machine learning deep learning deep learning AI deep learning nlp nlp nlp nlp nlp python sameer sameer spark spark pytorch AI AI')"
   ]
  },
  {
   "cell_type": "code",
   "execution_count": 54,
   "id": "8485a57a",
   "metadata": {},
   "outputs": [
    {
     "data": {
      "text/plain": [
       "'Python python python matplotlib sns sns matplotlib python machine learning machine learning deep learning deep learning AI deep learning nlp nlp nlp nlp nlp python sameer sameer spark spark pytorch AI AI'"
      ]
     },
     "execution_count": 54,
     "metadata": {},
     "output_type": "execute_result"
    }
   ],
   "source": [
    "text"
   ]
  },
  {
   "cell_type": "code",
   "execution_count": 55,
   "id": "0882fd2d",
   "metadata": {},
   "outputs": [],
   "source": [
    "wordcloud = WordCloud( width = 400, height = 200, margin = 0).generate(text)"
   ]
  },
  {
   "cell_type": "code",
   "execution_count": 56,
   "id": "3ebf7283",
   "metadata": {},
   "outputs": [
    {
     "data": {
      "image/png": "[encoded data removed]",
      "text/plain": [
       "<Figure size 640x480 with 1 Axes>"
      ]
     },
     "metadata": {},
     "output_type": "display_data"
    }
   ],
   "source": [
    "plt.imshow(wordcloud,interpolation = 'blackman')\n",
    "plt.axis('off')\n",
    "plt.margins(x=0,y=0)\n",
    "plt.show()"
   ]
  },
  {
   "cell_type": "code",
   "execution_count": 57,
   "id": "75e1c623",
   "metadata": {},
   "outputs": [
    {
     "ename": "NameError",
     "evalue": "name 'np' is not defined",
     "output_type": "error",
     "traceback": [
      "\u001b[1;31m---------------------------------------------------------------------------\u001b[0m",
      "\u001b[1;31mNameError\u001b[0m                                 Traceback (most recent call last)",
      "Cell \u001b[1;32mIn[57], line 3\u001b[0m\n\u001b[0;32m      1\u001b[0m \u001b[38;5;66;03m#stopwords = set(stopwords)\u001b[39;00m\n\u001b[1;32m----> 3\u001b[0m mask \u001b[38;5;241m=\u001b[39m \u001b[43mnp\u001b[49m\u001b[38;5;241m.\u001b[39marray(Image\u001b[38;5;241m.\u001b[39mopen(\u001b[38;5;124mr\u001b[39m\u001b[38;5;124m'\u001b[39m\u001b[38;5;124mC:\u001b[39m\u001b[38;5;124m\\\u001b[39m\u001b[38;5;124mUsers\u001b[39m\u001b[38;5;124m\\\u001b[39m\u001b[38;5;124mSAMEER\u001b[39m\u001b[38;5;124m\\\u001b[39m\u001b[38;5;124mOneDrive\u001b[39m\u001b[38;5;124m\\\u001b[39m\u001b[38;5;124mDesktop\u001b[39m\u001b[38;5;124m\\\u001b[39m\u001b[38;5;124mData Science 6pm\u001b[39m\u001b[38;5;124m\\\u001b[39m\u001b[38;5;124mheart.png\u001b[39m\u001b[38;5;124m'\u001b[39m))\n\u001b[0;32m      5\u001b[0m wordcloud \u001b[38;5;241m=\u001b[39m WordCloud( width \u001b[38;5;241m=\u001b[39m \u001b[38;5;241m480\u001b[39m, height \u001b[38;5;241m=\u001b[39m \u001b[38;5;241m480\u001b[39m, stopwords\u001b[38;5;241m=\u001b[39mstopwords,background_color \u001b[38;5;241m=\u001b[39m \u001b[38;5;124m'\u001b[39m\u001b[38;5;124mwhite\u001b[39m\u001b[38;5;124m'\u001b[39m, max_words\u001b[38;5;241m=\u001b[39m\u001b[38;5;241m100\u001b[39m,\n\u001b[0;32m      6\u001b[0m                       contour_color\u001b[38;5;241m=\u001b[39m\u001b[38;5;124m'\u001b[39m\u001b[38;5;124mblack\u001b[39m\u001b[38;5;124m'\u001b[39m,mask\u001b[38;5;241m=\u001b[39mmask, contour_width\u001b[38;5;241m=\u001b[39m\u001b[38;5;241m3\u001b[39m,colormap\u001b[38;5;241m=\u001b[39m\u001b[38;5;124m'\u001b[39m\u001b[38;5;124mrainbow\u001b[39m\u001b[38;5;124m'\u001b[39m)\u001b[38;5;241m.\u001b[39mgenerate(text)\n\u001b[0;32m      8\u001b[0m plt\u001b[38;5;241m.\u001b[39mfigure()\n",
      "\u001b[1;31mNameError\u001b[0m: name 'np' is not defined"
     ]
    }
   ],
   "source": [
    "#stopwords = set(stopwords)\n",
    "\n",
    "mask = np.array(Image.open(r'C:\\Users\\SAMEER\\OneDrive\\Desktop\\Data Science 6pm\\heart.png'))\n",
    "\n",
    "wordcloud = WordCloud( width = 480, height = 480, stopwords=stopwords,background_color = 'white', max_words=100,\n",
    "                      contour_color='black',mask=mask, contour_width=3,colormap='rainbow').generate(text)\n",
    "\n",
    "plt.figure()\n",
    "plt.imshow(wordcloud,interpolation ='bilinear')\n",
    "plt.axis(\"off\")\n",
    "plt.show()"
   ]
  },
  {
   "cell_type": "code",
   "execution_count": null,
   "id": "cf513e37",
   "metadata": {},
   "outputs": [],
   "source": [
    "import matplotlib.pyplot as plt\n",
    "from wordcloud import WordCloud\n",
    "\n",
    "def generate_word_cloud(text, shape='rectangle'):\n",
    "    wordcloud = WordCloud(background_color='white',\n",
    "                          width=800,\n",
    "                          height=400,\n",
    "                          max_words=100,\n",
    "                          relative_scaling=0.5,\n",
    "                          colormap='Blues',\n",
    "                          collocations=False,\n",
    "                          shape=shape).generate(text)\n",
    "    plt.figure(figsize=(10, 5))\n",
    "    plt.imshow(wordcloud, interpolation='bilinear')\n",
    "    plt.axis('off')\n",
    "    plt.show()"
   ]
  },
  {
   "cell_type": "code",
   "execution_count": 58,
   "id": "6ab867ea",
   "metadata": {},
   "outputs": [],
   "source": [
    "wordcloud = WordCloud( width = 400, height = 200, margin = 0).generate(text)\n",
    "\n",
    "import matplotlib.pyplot as plt\n",
    "from wordcloud import WordCloud\n",
    "from PIL import Image\n",
    "import numpy as np\n",
    "\n",
    "def generate_word_cloud(text):\n",
    "    # Load heart-shaped image\n",
    "    heart_mask = np.array(Image.open(\"heart.png\"))\n",
    "\n",
    "    # Create word cloud with heart shape\n",
    "    wordcloud = WordCloud(background_color='white',\n",
    "                          width=800,\n",
    "                          height=800,\n",
    "                          max_words=100,\n",
    "                          relative_scaling=0.5,\n",
    "                          colormap='Blues',\n",
    "                          collocations=False,\n",
    "                          mask=heart_mask).generate(text)\n",
    "\n",
    "    plt.figure(figsize=(8, 8))\n",
    "    plt.imshow(wordcloud, interpolation='bilinear')\n",
    "    plt.axis('off')\n",
    "    plt.show()"
   ]
  },
  {
   "cell_type": "code",
   "execution_count": null,
   "id": "604b2cf3",
   "metadata": {},
   "outputs": [],
   "source": [
    "import matplotlib.pyplot as plt\n",
    "from wordcloud import WordCloud\n",
    "from PIL import Image\n",
    "import numpy as np\n",
    "\n",
    "def generate_word_cloud(text):\n",
    "    # Load heart-shaped image\n",
    "    heart_mask = np.array(Image.open(r\"C:\\Users\\SAMEER\\OneDrive\\Desktop\\Data Science 6pm\\heart.png\"))\n",
    "\n",
    "    # Create word cloud with heart shape\n",
    "    wordcloud = WordCloud(background_color='white',\n",
    "                          width=800,\n",
    "                          height=800,\n",
    "                          max_words=100,\n",
    "                          relative_scaling=0.5,\n",
    "                          colormap='Blues',\n",
    "                          collocations=False,\n",
    "                          mask=heart_mask).generate(text)\n",
    "\n",
    "    plt.figure(figsize=(8, 8))\n",
    "    plt.imshow(wordcloud, interpolation='bilinear')\n",
    "    plt.axis('off')\n",
    "    plt.show()\n",
    "\n",
    "# Example usage:\n",
    "text = \"Your text data goes here...\"\n",
    "generate_word_cloud(text)\n"
   ]
  },
  {
   "cell_type": "code",
   "execution_count": null,
   "id": "a0d776e7",
   "metadata": {},
   "outputs": [],
   "source": []
  }
 ],
 "metadata": {
  "kernelspec": {
   "display_name": "Python 3 (ipykernel)",
   "language": "python",
   "name": "python3"
  },
  "language_info": {
   "codemirror_mode": {
    "name": "ipython",
    "version": 3
   },
   "file_extension": ".py",
   "mimetype": "text/x-python",
   "name": "python",
   "nbconvert_exporter": "python",
   "pygments_lexer": "ipython3",
   "version": "3.9.13"
  },
  "varInspector": {
   "cols": {
    "lenName": 16,
    "lenType": 16,
    "lenVar": 40
   },
   "kernels_config": {
    "python": {
     "delete_cmd_postfix": "",
     "delete_cmd_prefix": "del ",
     "library": "var_list.py",
     "varRefreshCmd": "print(var_dic_list())"
    },
    "r": {
     "delete_cmd_postfix": ") ",
     "delete_cmd_prefix": "rm(",
     "library": "var_list.r",
     "varRefreshCmd": "cat(var_dic_list()) "
    }
   },
   "types_to_exclude": [
    "module",
    "function",
    "builtin_function_or_method",
    "instance",
    "_Feature"
   ],
   "window_display": false
  }
 },
 "nbformat": 4,
 "nbformat_minor": 5
}
